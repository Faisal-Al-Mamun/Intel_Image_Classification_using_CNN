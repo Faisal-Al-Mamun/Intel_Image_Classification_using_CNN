{
  "nbformat": 4,
  "nbformat_minor": 0,
  "metadata": {
    "colab": {
      "name": "Intel Image Classification using CNN.ipynb",
      "provenance": [],
      "collapsed_sections": [
        "OpDl7knhcXgn"
      ],
      "mount_file_id": "1_cq4wIwAkSoXx98FS_DmpPDpn3Y1GdES",
      "authorship_tag": "ABX9TyPHWKiPUdX4YgplylVR7QKl"
    },
    "kernelspec": {
      "name": "python3",
      "display_name": "Python 3"
    },
    "accelerator": "GPU"
  },
  "cells": [
    {
      "cell_type": "markdown",
      "metadata": {
        "id": "xOPfrCIjN59S"
      },
      "source": [
        "### Loading Data on Google Colab from Google Drive"
      ]
    },
    {
      "cell_type": "code",
      "metadata": {
        "id": "xznILCpxLI6E"
      },
      "source": [
        "!cp -r \"/content/drive/My Drive/Colab Notebooks/Intel Image Classification.zip\" \"/content/\""
      ],
      "execution_count": 1,
      "outputs": []
    },
    {
      "cell_type": "code",
      "metadata": {
        "id": "pZFYGzK2N02e"
      },
      "source": [
        "!unzip 'Intel Image Classification.zip'"
      ],
      "execution_count": null,
      "outputs": []
    },
    {
      "cell_type": "markdown",
      "metadata": {
        "id": "OITfo4z1jHm7"
      },
      "source": [
        "Dataset Downloaded from Kaggle Link:- https://www.kaggle.com/puneet6060/intel-image-classification"
      ]
    },
    {
      "cell_type": "markdown",
      "metadata": {
        "id": "OpDl7knhcXgn"
      },
      "source": [
        "### Enabling and testing the TPU"
      ]
    },
    {
      "cell_type": "code",
      "metadata": {
        "id": "Q1tJv5Cyca0e"
      },
      "source": [
        "%tensorflow_version 2.x\n",
        "import tensorflow as tf\n",
        "print(\"Tensorflow version \" + tf.__version__)\n",
        "\n",
        "try:\n",
        "  tpu = tf.distribute.cluster_resolver.TPUClusterResolver()  # TPU detection\n",
        "  print('Running on TPU ', tpu.cluster_spec().as_dict()['worker'])\n",
        "except ValueError:\n",
        "  raise BaseException('ERROR: Not connected to a TPU runtime; please see the previous cell in this notebook for instructions!')\n",
        "\n",
        "tf.config.experimental_connect_to_cluster(tpu)\n",
        "tf.tpu.experimental.initialize_tpu_system(tpu)\n",
        "tpu_strategy = tf.distribute.experimental.TPUStrategy(tpu)"
      ],
      "execution_count": null,
      "outputs": []
    },
    {
      "cell_type": "markdown",
      "metadata": {
        "id": "gtsv08R0ONf_"
      },
      "source": [
        "### Importing Libraries"
      ]
    },
    {
      "cell_type": "code",
      "metadata": {
        "id": "uZeB3LJnOagO",
        "colab": {
          "base_uri": "https://localhost:8080/"
        },
        "outputId": "422f989c-16fd-487e-dd8a-838cc45c5326"
      },
      "source": [
        "try:\n",
        "  %tensorflow_version 2.x  # Colab only.\n",
        "except Exception:\n",
        "  pass\n",
        "\n",
        "import tensorflow as tf\n",
        "print(tf.__version__)\n",
        "\n",
        "\n",
        "device_name = tf.test.gpu_device_name()\n",
        "if device_name != '/device:GPU:0':\n",
        "  raise SystemError('GPU device not found')\n",
        "print('Found GPU at: {}'.format(device_name))"
      ],
      "execution_count": 3,
      "outputs": [
        {
          "output_type": "stream",
          "name": "stdout",
          "text": [
            "`%tensorflow_version` only switches the major version: 1.x or 2.x.\n",
            "You set: `2.x  # Colab only.`. This will be interpreted as: `2.x`.\n",
            "\n",
            "\n",
            "TensorFlow 2.x selected.\n",
            "2.7.0\n",
            "Found GPU at: /device:GPU:0\n"
          ]
        }
      ]
    },
    {
      "cell_type": "code",
      "metadata": {
        "id": "2-6SqYH9PFaQ"
      },
      "source": [
        "# additional imports\n",
        "\n",
        "import numpy as np\n",
        "import matplotlib.pyplot as plt\n",
        "from tensorflow.keras.layers import Input, Conv2D, Dense, Flatten, Dropout, GlobalMaxPooling2D, MaxPooling2D, BatchNormalization\n",
        "from tensorflow.keras.models import Model\n",
        "from keras.preprocessing.image import ImageDataGenerator\n",
        "\n",
        "from sklearn.metrics import classification_report,confusion_matrix\n",
        "import seaborn as sn\n",
        "from tensorflow.keras.preprocessing import image\n"
      ],
      "execution_count": 17,
      "outputs": []
    },
    {
      "cell_type": "markdown",
      "metadata": {
        "id": "KNOYYT5TPVIP"
      },
      "source": [
        "### Data Augmentation & Data Loading"
      ]
    },
    {
      "cell_type": "code",
      "metadata": {
        "id": "pUu69XEJPgF-"
      },
      "source": [
        "train_datagen = ImageDataGenerator(rescale = 1./255,\n",
        "                                   shear_range = 0.2,\n",
        "                                   zoom_range = 0.2,\n",
        "                                   horizontal_flip = True)\n",
        "\n",
        "test_datagen = ImageDataGenerator(rescale = 1./255)"
      ],
      "execution_count": 5,
      "outputs": []
    },
    {
      "cell_type": "code",
      "metadata": {
        "id": "_75ap2QWPj-G",
        "colab": {
          "base_uri": "https://localhost:8080/"
        },
        "outputId": "0f2b33b6-28c2-428d-c061-ffb523edfa89"
      },
      "source": [
        "training_set = train_datagen.flow_from_directory('/content/Intel Image Classification/seg_train/seg_train',\n",
        "                                                 target_size = (150, 150),\n",
        "                                                 batch_size = 32,\n",
        "                                                 class_mode='categorical')"
      ],
      "execution_count": 6,
      "outputs": [
        {
          "output_type": "stream",
          "name": "stdout",
          "text": [
            "Found 14034 images belonging to 6 classes.\n"
          ]
        }
      ]
    },
    {
      "cell_type": "code",
      "metadata": {
        "id": "G9OWwU2vqNhi",
        "colab": {
          "base_uri": "https://localhost:8080/"
        },
        "outputId": "9d1737e9-11f8-4a8c-8cb1-0d992adf7298"
      },
      "source": [
        "test_set = test_datagen.flow_from_directory('/content/Intel Image Classification/seg_test/seg_test',\n",
        "                                            target_size = (150, 150),\n",
        "                                            batch_size = 32,\n",
        "                                            shuffle=False,\n",
        "                                            class_mode='categorical')"
      ],
      "execution_count": 7,
      "outputs": [
        {
          "output_type": "stream",
          "name": "stdout",
          "text": [
            "Found 3000 images belonging to 6 classes.\n"
          ]
        }
      ]
    },
    {
      "cell_type": "markdown",
      "metadata": {
        "id": "UgyfYFpZQWHk"
      },
      "source": [
        "### Model_1"
      ]
    },
    {
      "cell_type": "code",
      "metadata": {
        "id": "eM1SBOdYQZGC"
      },
      "source": [
        "i = Input(shape=(150,150, 3))\n",
        "\n",
        "x = Conv2D(64, (3, 3), activation='relu', padding='same')(i)\n",
        "x = BatchNormalization()(x)\n",
        "x = Conv2D(64, (3, 3), activation='relu', padding='same')(x)\n",
        "x = BatchNormalization()(x)\n",
        "x = MaxPooling2D((2, 2))(x)\n",
        "# x = Dropout(0.2)(x)\n",
        "\n",
        "x = Conv2D(128, (3, 3), activation='relu', padding='same')(x)\n",
        "x = BatchNormalization()(x)\n",
        "x = Conv2D(128, (3, 3), activation='relu', padding='same')(x)\n",
        "x = BatchNormalization()(x)\n",
        "x = MaxPooling2D((2, 2))(x)\n",
        "# x = Dropout(0.2)(x)\n",
        "\n",
        "x = Conv2D(256, (3, 3), activation='relu', padding='same')(x)\n",
        "x = BatchNormalization()(x)\n",
        "x = Conv2D(256, (3, 3), activation='relu', padding='same')(x)\n",
        "x = BatchNormalization()(x)\n",
        "x = MaxPooling2D((2, 2))(x)\n",
        "# x = Dropout(0.2)(x)\n",
        "\n",
        "#x = GlobalMaxPooling2D()(x)\n",
        "x = Flatten()(x)\n",
        "x = Dropout(0.4)(x)\n",
        "x = Dense(512, activation='relu')(x)\n",
        "x = Dropout(0.4)(x)\n",
        "x = Dense(6, activation='softmax')(x)\n",
        "\n",
        "model = Model(i, x)\n"
      ],
      "execution_count": 8,
      "outputs": []
    },
    {
      "cell_type": "markdown",
      "metadata": {
        "id": "LDxMEP48QeHt"
      },
      "source": [
        "### Model Compailation and Model Fitting"
      ]
    },
    {
      "cell_type": "code",
      "metadata": {
        "id": "JvOAfjKpQfCy"
      },
      "source": [
        "opt = tf.keras.optimizers.Adam(learning_rate=0.001)\n",
        "model.compile(optimizer = opt, loss = 'categorical_crossentropy', metrics = ['accuracy'])"
      ],
      "execution_count": 9,
      "outputs": []
    },
    {
      "cell_type": "code",
      "metadata": {
        "id": "IJOcAcrIQg1F",
        "colab": {
          "base_uri": "https://localhost:8080/"
        },
        "outputId": "b0a0a0db-5eb3-4d4a-a229-c880fc6982d9"
      },
      "source": [
        "r = model.fit(training_set,\n",
        "                  epochs = 50,\n",
        "                  validation_data = test_set)"
      ],
      "execution_count": 10,
      "outputs": [
        {
          "output_type": "stream",
          "name": "stdout",
          "text": [
            "Epoch 1/50\n",
            "439/439 [==============================] - 173s 356ms/step - loss: 6.6382 - accuracy: 0.4781 - val_loss: 2.5153 - val_accuracy: 0.4087\n",
            "Epoch 2/50\n",
            "439/439 [==============================] - 151s 344ms/step - loss: 1.1668 - accuracy: 0.5622 - val_loss: 1.2041 - val_accuracy: 0.5680\n",
            "Epoch 3/50\n",
            "439/439 [==============================] - 151s 344ms/step - loss: 1.0425 - accuracy: 0.6062 - val_loss: 0.8058 - val_accuracy: 0.6883\n",
            "Epoch 4/50\n",
            "439/439 [==============================] - 151s 344ms/step - loss: 0.9591 - accuracy: 0.6436 - val_loss: 0.7609 - val_accuracy: 0.7197\n",
            "Epoch 5/50\n",
            "439/439 [==============================] - 151s 344ms/step - loss: 0.9206 - accuracy: 0.6669 - val_loss: 0.7557 - val_accuracy: 0.7247\n",
            "Epoch 6/50\n",
            "439/439 [==============================] - 151s 344ms/step - loss: 0.8659 - accuracy: 0.6877 - val_loss: 0.7005 - val_accuracy: 0.7477\n",
            "Epoch 7/50\n",
            "439/439 [==============================] - 151s 344ms/step - loss: 0.8190 - accuracy: 0.7066 - val_loss: 0.7569 - val_accuracy: 0.7097\n",
            "Epoch 8/50\n",
            "439/439 [==============================] - 151s 344ms/step - loss: 0.7973 - accuracy: 0.7203 - val_loss: 0.6542 - val_accuracy: 0.7717\n",
            "Epoch 9/50\n",
            "439/439 [==============================] - 151s 343ms/step - loss: 0.7520 - accuracy: 0.7332 - val_loss: 0.7839 - val_accuracy: 0.7863\n",
            "Epoch 10/50\n",
            "439/439 [==============================] - 151s 344ms/step - loss: 0.7419 - accuracy: 0.7341 - val_loss: 1.0921 - val_accuracy: 0.7347\n",
            "Epoch 11/50\n",
            "439/439 [==============================] - 151s 343ms/step - loss: 0.7475 - accuracy: 0.7404 - val_loss: 0.7776 - val_accuracy: 0.7540\n",
            "Epoch 12/50\n",
            "439/439 [==============================] - 151s 343ms/step - loss: 0.7028 - accuracy: 0.7547 - val_loss: 0.5116 - val_accuracy: 0.8323\n",
            "Epoch 13/50\n",
            "439/439 [==============================] - 151s 343ms/step - loss: 0.6815 - accuracy: 0.7622 - val_loss: 0.7546 - val_accuracy: 0.7660\n",
            "Epoch 14/50\n",
            "439/439 [==============================] - 151s 343ms/step - loss: 0.6736 - accuracy: 0.7687 - val_loss: 1.1190 - val_accuracy: 0.7230\n",
            "Epoch 15/50\n",
            "439/439 [==============================] - 151s 344ms/step - loss: 0.6384 - accuracy: 0.7715 - val_loss: 0.8509 - val_accuracy: 0.7390\n",
            "Epoch 16/50\n",
            "439/439 [==============================] - 151s 343ms/step - loss: 0.6156 - accuracy: 0.7874 - val_loss: 0.6776 - val_accuracy: 0.8077\n",
            "Epoch 17/50\n",
            "439/439 [==============================] - 151s 343ms/step - loss: 0.5851 - accuracy: 0.7962 - val_loss: 0.4408 - val_accuracy: 0.8520\n",
            "Epoch 18/50\n",
            "439/439 [==============================] - 151s 343ms/step - loss: 0.5930 - accuracy: 0.7944 - val_loss: 0.9107 - val_accuracy: 0.7413\n",
            "Epoch 19/50\n",
            "439/439 [==============================] - 151s 343ms/step - loss: 0.5727 - accuracy: 0.8038 - val_loss: 0.7712 - val_accuracy: 0.8160\n",
            "Epoch 20/50\n",
            "439/439 [==============================] - 151s 343ms/step - loss: 0.5658 - accuracy: 0.8047 - val_loss: 0.7360 - val_accuracy: 0.7653\n",
            "Epoch 21/50\n",
            "439/439 [==============================] - 150s 342ms/step - loss: 0.5395 - accuracy: 0.8123 - val_loss: 0.6692 - val_accuracy: 0.8067\n",
            "Epoch 22/50\n",
            "439/439 [==============================] - 151s 343ms/step - loss: 0.4956 - accuracy: 0.8310 - val_loss: 0.5318 - val_accuracy: 0.8227\n",
            "Epoch 23/50\n",
            "439/439 [==============================] - 151s 343ms/step - loss: 0.4922 - accuracy: 0.8270 - val_loss: 0.4412 - val_accuracy: 0.8637\n",
            "Epoch 24/50\n",
            "439/439 [==============================] - 150s 342ms/step - loss: 0.4762 - accuracy: 0.8349 - val_loss: 0.6426 - val_accuracy: 0.8063\n",
            "Epoch 25/50\n",
            "439/439 [==============================] - 150s 342ms/step - loss: 0.4745 - accuracy: 0.8343 - val_loss: 1.5153 - val_accuracy: 0.5703\n",
            "Epoch 26/50\n",
            "439/439 [==============================] - 151s 343ms/step - loss: 0.4679 - accuracy: 0.8405 - val_loss: 0.4454 - val_accuracy: 0.8507\n",
            "Epoch 27/50\n",
            "439/439 [==============================] - 151s 343ms/step - loss: 0.4545 - accuracy: 0.8446 - val_loss: 1.0152 - val_accuracy: 0.7320\n",
            "Epoch 28/50\n",
            "439/439 [==============================] - 150s 342ms/step - loss: 0.4320 - accuracy: 0.8530 - val_loss: 0.5110 - val_accuracy: 0.8397\n",
            "Epoch 29/50\n",
            "439/439 [==============================] - 150s 342ms/step - loss: 0.4458 - accuracy: 0.8488 - val_loss: 0.4390 - val_accuracy: 0.8683\n",
            "Epoch 30/50\n",
            "439/439 [==============================] - 151s 343ms/step - loss: 0.4348 - accuracy: 0.8523 - val_loss: 0.4357 - val_accuracy: 0.8650\n",
            "Epoch 31/50\n",
            "439/439 [==============================] - 151s 343ms/step - loss: 0.4108 - accuracy: 0.8574 - val_loss: 0.4772 - val_accuracy: 0.8523\n",
            "Epoch 32/50\n",
            "439/439 [==============================] - 151s 343ms/step - loss: 0.4066 - accuracy: 0.8591 - val_loss: 0.6160 - val_accuracy: 0.8443\n",
            "Epoch 33/50\n",
            "439/439 [==============================] - 150s 342ms/step - loss: 0.4112 - accuracy: 0.8607 - val_loss: 0.6038 - val_accuracy: 0.8147\n",
            "Epoch 34/50\n",
            "439/439 [==============================] - 151s 343ms/step - loss: 0.3969 - accuracy: 0.8642 - val_loss: 0.5572 - val_accuracy: 0.8467\n",
            "Epoch 35/50\n",
            "439/439 [==============================] - 151s 343ms/step - loss: 0.3728 - accuracy: 0.8730 - val_loss: 0.4582 - val_accuracy: 0.8553\n",
            "Epoch 36/50\n",
            "439/439 [==============================] - 151s 343ms/step - loss: 0.3690 - accuracy: 0.8754 - val_loss: 0.5216 - val_accuracy: 0.8550\n",
            "Epoch 37/50\n",
            "439/439 [==============================] - 150s 342ms/step - loss: 0.3444 - accuracy: 0.8791 - val_loss: 0.3643 - val_accuracy: 0.8843\n",
            "Epoch 38/50\n",
            "439/439 [==============================] - 150s 342ms/step - loss: 0.3512 - accuracy: 0.8806 - val_loss: 0.4715 - val_accuracy: 0.8327\n",
            "Epoch 39/50\n",
            "439/439 [==============================] - 151s 344ms/step - loss: 0.3408 - accuracy: 0.8839 - val_loss: 0.4075 - val_accuracy: 0.8823\n",
            "Epoch 40/50\n",
            "439/439 [==============================] - 150s 342ms/step - loss: 0.3207 - accuracy: 0.8872 - val_loss: 0.5062 - val_accuracy: 0.8417\n",
            "Epoch 41/50\n",
            "439/439 [==============================] - 150s 342ms/step - loss: 0.3313 - accuracy: 0.8852 - val_loss: 0.4557 - val_accuracy: 0.8687\n",
            "Epoch 42/50\n",
            "439/439 [==============================] - 151s 343ms/step - loss: 0.3173 - accuracy: 0.8943 - val_loss: 0.5706 - val_accuracy: 0.8487\n",
            "Epoch 43/50\n",
            "439/439 [==============================] - 151s 343ms/step - loss: 0.3031 - accuracy: 0.8973 - val_loss: 0.6146 - val_accuracy: 0.8410\n",
            "Epoch 44/50\n",
            "439/439 [==============================] - 151s 343ms/step - loss: 0.3170 - accuracy: 0.8945 - val_loss: 0.3670 - val_accuracy: 0.8947\n",
            "Epoch 45/50\n",
            "439/439 [==============================] - 151s 343ms/step - loss: 0.3270 - accuracy: 0.8891 - val_loss: 0.4540 - val_accuracy: 0.8740\n",
            "Epoch 46/50\n",
            "439/439 [==============================] - 151s 343ms/step - loss: 0.2997 - accuracy: 0.8965 - val_loss: 0.4410 - val_accuracy: 0.8937\n",
            "Epoch 47/50\n",
            "439/439 [==============================] - 151s 344ms/step - loss: 0.2842 - accuracy: 0.9018 - val_loss: 0.4469 - val_accuracy: 0.8643\n",
            "Epoch 48/50\n",
            "439/439 [==============================] - 151s 343ms/step - loss: 0.2875 - accuracy: 0.9005 - val_loss: 0.7032 - val_accuracy: 0.8210\n",
            "Epoch 49/50\n",
            "439/439 [==============================] - 151s 342ms/step - loss: 0.2781 - accuracy: 0.9054 - val_loss: 0.4355 - val_accuracy: 0.8963\n",
            "Epoch 50/50\n",
            "439/439 [==============================] - 151s 343ms/step - loss: 0.2661 - accuracy: 0.9091 - val_loss: 0.4791 - val_accuracy: 0.8630\n"
          ]
        }
      ]
    },
    {
      "cell_type": "markdown",
      "metadata": {
        "id": "0yF7g9yZkBCY"
      },
      "source": [
        "### Train on the TPU"
      ]
    },
    {
      "cell_type": "code",
      "metadata": {
        "id": "YrGCpspBkD2_"
      },
      "source": [
        "with tpu_strategy.scope():\n",
        "  model = create_model()\n",
        "  model.compile(\n",
        "      optimizer=tf.keras.optimizers.Adam(learning_rate=0.001),\n",
        "      loss='sparse_categorical_crossentropy',\n",
        "      metrics=['accuracy'])\n",
        "\n",
        "r = model.fit(training_set,\n",
        "              epochs = 50,\n",
        "              validation_data = test_set)\n"
      ],
      "execution_count": null,
      "outputs": []
    },
    {
      "cell_type": "markdown",
      "metadata": {
        "id": "_Tg90FG9Qvij"
      },
      "source": [
        "### Loss and Accuracy Graph"
      ]
    },
    {
      "cell_type": "code",
      "metadata": {
        "id": "vrLL8LZgQwe4",
        "colab": {
          "base_uri": "https://localhost:8080/",
          "height": 312
        },
        "outputId": "19e1d295-5497-4837-fa82-5e17dda45f7a"
      },
      "source": [
        "# Plot what's returned by model.fit() / model.fit_generator()\n",
        "import matplotlib.pyplot as plt\n",
        "plt.plot(r.history['loss'], label='loss')\n",
        "plt.plot(r.history['val_loss'], label='val_loss')\n",
        "plt.title('Model Loss')\n",
        "plt.ylabel('Loss')\n",
        "plt.xlabel('Epochs')\n",
        "plt.legend()"
      ],
      "execution_count": 11,
      "outputs": [
        {
          "output_type": "execute_result",
          "data": {
            "text/plain": [
              "<matplotlib.legend.Legend at 0x7fdfa691ad50>"
            ]
          },
          "metadata": {},
          "execution_count": 11
        },
        {
          "output_type": "display_data",
          "data": {
            "image/png": "[encoded data removed]",
            "text/plain": [
              "<Figure size 432x288 with 1 Axes>"
            ]
          },
          "metadata": {
            "needs_background": "light"
          }
        }
      ]
    },
    {
      "cell_type": "code",
      "metadata": {
        "id": "S3BXSSAaQyAA",
        "colab": {
          "base_uri": "https://localhost:8080/",
          "height": 312
        },
        "outputId": "74e22884-7925-4d3b-a066-fb372959d9f4"
      },
      "source": [
        "##### Plot the accuracy too\n",
        "plt.plot(r.history['accuracy'], label='acc')\n",
        "plt.plot(r.history['val_accuracy'], label='val_acc')\n",
        "plt.title('Model Accuracy')\n",
        "plt.ylabel('Accuracy')\n",
        "plt.xlabel('Epochs')\n",
        "plt.legend()"
      ],
      "execution_count": 12,
      "outputs": [
        {
          "output_type": "execute_result",
          "data": {
            "text/plain": [
              "<matplotlib.legend.Legend at 0x7fdf31b28bd0>"
            ]
          },
          "metadata": {},
          "execution_count": 12
        },
        {
          "output_type": "display_data",
          "data": {
            "image/png": "[encoded data removed]",
            "text/plain": [
              "<Figure size 432x288 with 1 Axes>"
            ]
          },
          "metadata": {
            "needs_background": "light"
          }
        }
      ]
    },
    {
      "cell_type": "markdown",
      "metadata": {
        "id": "FnRpRBQMQ1mP"
      },
      "source": [
        "### Model Saving and Model Summary"
      ]
    },
    {
      "cell_type": "code",
      "metadata": {
        "id": "A7mCEi-VQ2W_"
      },
      "source": [
        "# Saving Trained Model\n",
        "model.save('Intel Image Classification.h5') # creates a HDF5 file\n",
        "#for TPU\n",
        "#model.save_weights('./fashion_mnist.h5', overwrite=True)"
      ],
      "execution_count": 13,
      "outputs": []
    },
    {
      "cell_type": "code",
      "metadata": {
        "id": "k_o6lxXzQ31r",
        "colab": {
          "base_uri": "https://localhost:8080/"
        },
        "outputId": "f6f71253-4b61-44f2-f9e8-651b795394c2"
      },
      "source": [
        "#Loading previously trained model\n",
        "\n",
        "#from keras.models import load_model\n",
        "#classifier = load_model('cats_and_dogs.h5')\n",
        "\n",
        "model= tf.keras.models.load_model('Intel Image Classification.h5')\n",
        "\n",
        "model.summary()"
      ],
      "execution_count": 14,
      "outputs": [
        {
          "output_type": "stream",
          "name": "stdout",
          "text": [
            "Model: \"model\"\n",
            "_________________________________________________________________\n",
            " Layer (type)                Output Shape              Param #   \n",
            "=================================================================\n",
            " input_1 (InputLayer)        [(None, 150, 150, 3)]     0         \n",
            "                                                                 \n",
            " conv2d (Conv2D)             (None, 150, 150, 64)      1792      \n",
            "                                                                 \n",
            " batch_normalization (BatchN  (None, 150, 150, 64)     256       \n",
            " ormalization)                                                   \n",
            "                                                                 \n",
            " conv2d_1 (Conv2D)           (None, 150, 150, 64)      36928     \n",
            "                                                                 \n",
            " batch_normalization_1 (Batc  (None, 150, 150, 64)     256       \n",
            " hNormalization)                                                 \n",
            "                                                                 \n",
            " max_pooling2d (MaxPooling2D  (None, 75, 75, 64)       0         \n",
            " )                                                               \n",
            "                                                                 \n",
            " conv2d_2 (Conv2D)           (None, 75, 75, 128)       73856     \n",
            "                                                                 \n",
            " batch_normalization_2 (Batc  (None, 75, 75, 128)      512       \n",
            " hNormalization)                                                 \n",
            "                                                                 \n",
            " conv2d_3 (Conv2D)           (None, 75, 75, 128)       147584    \n",
            "                                                                 \n",
            " batch_normalization_3 (Batc  (None, 75, 75, 128)      512       \n",
            " hNormalization)                                                 \n",
            "                                                                 \n",
            " max_pooling2d_1 (MaxPooling  (None, 37, 37, 128)      0         \n",
            " 2D)                                                             \n",
            "                                                                 \n",
            " conv2d_4 (Conv2D)           (None, 37, 37, 256)       295168    \n",
            "                                                                 \n",
            " batch_normalization_4 (Batc  (None, 37, 37, 256)      1024      \n",
            " hNormalization)                                                 \n",
            "                                                                 \n",
            " conv2d_5 (Conv2D)           (None, 37, 37, 256)       590080    \n",
            "                                                                 \n",
            " batch_normalization_5 (Batc  (None, 37, 37, 256)      1024      \n",
            " hNormalization)                                                 \n",
            "                                                                 \n",
            " max_pooling2d_2 (MaxPooling  (None, 18, 18, 256)      0         \n",
            " 2D)                                                             \n",
            "                                                                 \n",
            " flatten (Flatten)           (None, 82944)             0         \n",
            "                                                                 \n",
            " dropout (Dropout)           (None, 82944)             0         \n",
            "                                                                 \n",
            " dense (Dense)               (None, 512)               42467840  \n",
            "                                                                 \n",
            " dropout_1 (Dropout)         (None, 512)               0         \n",
            "                                                                 \n",
            " dense_1 (Dense)             (None, 6)                 3078      \n",
            "                                                                 \n",
            "=================================================================\n",
            "Total params: 43,619,910\n",
            "Trainable params: 43,618,118\n",
            "Non-trainable params: 1,792\n",
            "_________________________________________________________________\n"
          ]
        }
      ]
    },
    {
      "cell_type": "markdown",
      "metadata": {
        "id": "VuS6pryOQ-gs"
      },
      "source": [
        "### Single Prediction Check"
      ]
    },
    {
      "cell_type": "code",
      "metadata": {
        "id": "Ue79zDT6CYaH",
        "colab": {
          "base_uri": "https://localhost:8080/"
        },
        "outputId": "af4f5a5a-fa03-4b83-c970-3e58a212c17a"
      },
      "source": [
        "model=tf.keras.models.load_model('Intel Image Classification.h5')\n",
        "img=image.load_img('/content/Intel Image Classification/seg_pred/seg_pred/10572.jpg',target_size=(150,150))\n",
        "x=image.img_to_array(img)\n",
        "x=np.expand_dims(x,axis=0)\n",
        "#img_data=preprocess_input(x)\n",
        "#img_data.shape\n",
        "model.predict(x)\n",
        "a=np.argmax(model.predict(x), axis=1)\n",
        "if a == 0:\n",
        "    print(\"buildings\")\n",
        "elif a == 1:\n",
        "    print(\"forest\")\n",
        "elif a == 2:\n",
        "    print(\"glacier\")\n",
        "elif a == 3:\n",
        "    print(\"moutain\")\n",
        "elif a == 4:\n",
        "    print(\"sea\")\n",
        "else:\n",
        "    print(\"street\")"
      ],
      "execution_count": 20,
      "outputs": [
        {
          "output_type": "stream",
          "name": "stdout",
          "text": [
            "buildings\n"
          ]
        }
      ]
    },
    {
      "cell_type": "markdown",
      "metadata": {
        "id": "cNp1lP8DVECO"
      },
      "source": [
        "## F1 Score and Confusion Matrix"
      ]
    },
    {
      "cell_type": "code",
      "metadata": {
        "colab": {
          "base_uri": "https://localhost:8080/"
        },
        "id": "7zw45vILVhtE",
        "outputId": "2046a1ef-b487-49f8-e982-e3ecf470626b"
      },
      "source": [
        "predictions = model.predict(test_set).round(3)\n",
        "\n",
        "#predicted_classes = [1 * (x[0]>=0.5) for x in predictions]\n",
        "\n",
        "predicted_classes = np.argmax(predictions, axis=1)\n",
        "\n",
        "print(predicted_classes)"
      ],
      "execution_count": 21,
      "outputs": [
        {
          "output_type": "stream",
          "name": "stdout",
          "text": [
            "[0 0 0 ... 4 5 5]\n"
          ]
        }
      ]
    },
    {
      "cell_type": "code",
      "metadata": {
        "id": "KQOTbYsPVjZp"
      },
      "source": [
        "true_classes = test_set.classes\n",
        "class_labels = list(test_set.class_indices.keys())\n",
        "\n",
        "#print(true_classes)\n",
        "#print(class_labels)"
      ],
      "execution_count": 22,
      "outputs": []
    },
    {
      "cell_type": "code",
      "metadata": {
        "colab": {
          "base_uri": "https://localhost:8080/"
        },
        "id": "o1bz8F4QVlNZ",
        "outputId": "43acf536-ea05-445e-fef3-f45ab58f19d2"
      },
      "source": [
        "print(classification_report(true_classes, predicted_classes, target_names=class_labels))   #target_names = ['dense_traffic (Class 0)','sparse_traffic (Class 1)']))"
      ],
      "execution_count": 23,
      "outputs": [
        {
          "output_type": "stream",
          "name": "stdout",
          "text": [
            "              precision    recall  f1-score   support\n",
            "\n",
            "   buildings       0.86      0.88      0.87       437\n",
            "      forest       0.97      0.98      0.97       474\n",
            "     glacier       0.86      0.70      0.77       553\n",
            "    mountain       0.71      0.88      0.79       525\n",
            "         sea       0.92      0.83      0.87       510\n",
            "      street       0.91      0.92      0.92       501\n",
            "\n",
            "    accuracy                           0.86      3000\n",
            "   macro avg       0.87      0.87      0.87      3000\n",
            "weighted avg       0.87      0.86      0.86      3000\n",
            "\n"
          ]
        }
      ]
    },
    {
      "cell_type": "code",
      "metadata": {
        "colab": {
          "base_uri": "https://localhost:8080/"
        },
        "id": "Ojovm9buVuIS",
        "outputId": "136935a2-b348-40a6-bc1d-ace4507f1d1a"
      },
      "source": [
        "print(training_set.class_indices) "
      ],
      "execution_count": 24,
      "outputs": [
        {
          "output_type": "stream",
          "name": "stdout",
          "text": [
            "{'buildings': 0, 'forest': 1, 'glacier': 2, 'mountain': 3, 'sea': 4, 'street': 5}\n"
          ]
        }
      ]
    },
    {
      "cell_type": "code",
      "metadata": {
        "colab": {
          "base_uri": "https://localhost:8080/",
          "height": 281
        },
        "id": "0VzC8g90Vnpf",
        "outputId": "e4728c2e-ce1e-42bf-be50-786c3b60d2f5"
      },
      "source": [
        "class_names = ['buildings','forest', 'glacier', 'mountain', 'sea', 'street']\n",
        "\n",
        "CM = confusion_matrix(true_classes, predicted_classes)\n",
        "\n",
        "ax = plt.axes()\n",
        "sn.heatmap(CM, annot=True, \n",
        "           cmap= \"Blues\", \n",
        "           annot_kws={\"size\": 10},\n",
        "            fmt='', \n",
        "           xticklabels=class_names, \n",
        "           yticklabels=class_names, ax = ax)\n",
        "ax.set_title('Confusion matrix')\n",
        "plt.show()"
      ],
      "execution_count": 25,
      "outputs": [
        {
          "output_type": "display_data",
          "data": {
            "image/png": "[encoded data removed]",
            "text/plain": [
              "<Figure size 432x288 with 2 Axes>"
            ]
          },
          "metadata": {
            "needs_background": "light"
          }
        }
      ]
    }
  ]
}